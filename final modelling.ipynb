{
 "cells": [
  {
   "cell_type": "code",
   "execution_count": 41,
   "metadata": {},
   "outputs": [],
   "source": [
    "import pandas as pd\n",
    "import numpy as np\n",
    "import matplotlib.pyplot as plt\n",
    "import seaborn as sns\n",
    "from PIL import Image\n",
    "import xlwt\n",
    "from xlwt import Workbook as wb\n",
    "from sklearn.neighbors import KNeighborsClassifier\n",
    "from sklearn.externals import joblib\n"
   ]
  },
  {
   "cell_type": "code",
   "execution_count": 43,
   "metadata": {},
   "outputs": [],
   "source": [
    "im0 = Image.open('0.png', 'r')\n",
    "sim0 = Image.open('0 (2).png', 'r')\n",
    "pix_val0 = list(im0.getdata())\n",
    "spix_val0 = list(sim0.getdata())"
   ]
  },
  {
   "cell_type": "code",
   "execution_count": 44,
   "metadata": {},
   "outputs": [],
   "source": [
    "im1 = Image.open('1.png', 'r')\n",
    "sim1 = Image.open('1 (2).png', 'r')\n",
    "pix_val1 = list(im1.getdata())\n",
    "spix_val1 = list(sim1.getdata())"
   ]
  },
  {
   "cell_type": "code",
   "execution_count": 45,
   "metadata": {},
   "outputs": [],
   "source": [
    "im2 = Image.open('2.png', 'r')\n",
    "sim2 = Image.open('2 (2).png', 'r')\n",
    "pix_val2 = list(im2.getdata())\n",
    "spix_val2 = list(sim2.getdata())"
   ]
  },
  {
   "cell_type": "code",
   "execution_count": 46,
   "metadata": {},
   "outputs": [],
   "source": [
    "im3 = Image.open('3.png', 'r')\n",
    "sim3 = Image.open('3 (2).png', 'r')\n",
    "pix_val3 = list(im3.getdata())\n",
    "spix_val3 = list(sim3.getdata())"
   ]
  },
  {
   "cell_type": "code",
   "execution_count": 47,
   "metadata": {},
   "outputs": [],
   "source": [
    "im4 = Image.open('4.png', 'r')\n",
    "sim4 = Image.open('4 (2).png', 'r')\n",
    "pix_val4 = list(im4.getdata())\n",
    "spix_val4 = list(sim4.getdata())"
   ]
  },
  {
   "cell_type": "code",
   "execution_count": 48,
   "metadata": {},
   "outputs": [],
   "source": [
    "im5 = Image.open('5.png', 'r')\n",
    "sim5 = Image.open('5 (2).png', 'r')\n",
    "pix_val5 = list(im5.getdata())\n",
    "spix_val5 = list(sim5.getdata())"
   ]
  },
  {
   "cell_type": "code",
   "execution_count": 49,
   "metadata": {},
   "outputs": [],
   "source": [
    "im6 = Image.open('6.png', 'r')\n",
    "sim6 = Image.open('6 (2).png', 'r')\n",
    "pix_val6 = list(im6.getdata())\n",
    "spix_val6 = list(sim6.getdata())"
   ]
  },
  {
   "cell_type": "code",
   "execution_count": 50,
   "metadata": {},
   "outputs": [],
   "source": [
    "im7 = Image.open('7.png', 'r')\n",
    "sim7 = Image.open('7 (2).png', 'r')\n",
    "pix_val7 = list(im7.getdata())\n",
    "spix_val7 = list(sim7.getdata())"
   ]
  },
  {
   "cell_type": "code",
   "execution_count": 51,
   "metadata": {},
   "outputs": [],
   "source": [
    "im8 = Image.open('8.png', 'r')\n",
    "sim8 = Image.open('8 (2).png', 'r')\n",
    "pix_val8 = list(im8.getdata())\n",
    "spix_val8 = list(sim8.getdata())"
   ]
  },
  {
   "cell_type": "code",
   "execution_count": 52,
   "metadata": {},
   "outputs": [],
   "source": [
    "im9 = Image.open('9.png', 'r')\n",
    "sim9 = Image.open('9 (2).png', 'r')\n",
    "pix_val9 = list(im9.getdata())\n",
    "spix_val9 = list(sim9.getdata())"
   ]
  },
  {
   "cell_type": "code",
   "execution_count": 53,
   "metadata": {},
   "outputs": [],
   "source": [
    "im10 = Image.open('10.png', 'r')\n",
    "sim10 = Image.open('10 (2).png', 'r')\n",
    "pix_val10 = list(im10.getdata())\n",
    "spix_val10 = list(sim10.getdata())"
   ]
  },
  {
   "cell_type": "code",
   "execution_count": 54,
   "metadata": {},
   "outputs": [],
   "source": [
    "im11 = Image.open('11.png', 'r')\n",
    "sim11 = Image.open('11 (2).png', 'r')\n",
    "pix_val11 = list(im11.getdata())\n",
    "spix_val11 = list(sim11.getdata())"
   ]
  },
  {
   "cell_type": "code",
   "execution_count": 55,
   "metadata": {},
   "outputs": [],
   "source": [
    "im12 = Image.open('12.png', 'r')\n",
    "sim12 = Image.open('12 (2).png', 'r')\n",
    "pix_val12 = list(im12.getdata())\n",
    "spix_val12 = list(sim12.getdata())"
   ]
  },
  {
   "cell_type": "code",
   "execution_count": 56,
   "metadata": {},
   "outputs": [],
   "source": [
    "im13 = Image.open('13.png', 'r')\n",
    "sim13 = Image.open('13 (2).png', 'r')\n",
    "pix_val13 = list(im13.getdata())\n",
    "spix_val13 = list(sim13.getdata())"
   ]
  },
  {
   "cell_type": "code",
   "execution_count": 57,
   "metadata": {},
   "outputs": [],
   "source": [
    "im14 = Image.open('14.png', 'r')\n",
    "sim14 = Image.open('14 (2).png', 'r')\n",
    "pix_val14 = list(im14.getdata())\n",
    "spix_val14 = list(sim14.getdata())"
   ]
  },
  {
   "cell_type": "code",
   "execution_count": 58,
   "metadata": {},
   "outputs": [],
   "source": [
    "color0=[]\n",
    "for i in range(0, 1024*1024): color0.append(4)\n",
    "    \n",
    "for k in range(0, 1024*1024):\n",
    "    if(spix_val0[k][0]==0 and spix_val0[k][1]==0 and spix_val0[k][2]==0): color0[k]=0\n",
    "    if(spix_val0[k][0]==255 and spix_val0[k][1]==0 and spix_val0[k][2]==0): color0[k]=1\n",
    "    if(spix_val0[k][0]==0 and spix_val0[k][1]==255 and spix_val0[k][2]==0): color0[k]=2\n",
    "    if(spix_val0[k][0]==0 and spix_val0[k][1]==0 and spix_val0[k][2]==255): color0[k]=3\n"
   ]
  },
  {
   "cell_type": "code",
   "execution_count": 59,
   "metadata": {},
   "outputs": [],
   "source": [
    "color1=[]\n",
    "for i in range(0, 1024*1024): color1.append(4)\n",
    "    \n",
    "for k in range(0, 1024*1024):\n",
    "    if(spix_val1[k][0]==0 and spix_val1[k][1]==0 and spix_val1[k][2]==0): color1[k]=0\n",
    "    if(spix_val1[k][0]==255 and spix_val1[k][1]==0 and spix_val1[k][2]==0): color1[k]=1\n",
    "    if(spix_val1[k][0]==0 and spix_val1[k][1]==255 and spix_val1[k][2]==0): color1[k]=2\n",
    "    if(spix_val1[k][0]==0 and spix_val1[k][1]==0 and spix_val1[k][2]==255): color1[k]=3\n"
   ]
  },
  {
   "cell_type": "code",
   "execution_count": 60,
   "metadata": {},
   "outputs": [],
   "source": [
    "color2=[]\n",
    "for i in range(0, 1024*1024): color2.append(4)\n",
    "    \n",
    "for k in range(0, 1024*1024):\n",
    "    if(spix_val2[k][0]==0 and spix_val2[k][1]==0 and spix_val2[k][2]==0): color2[k]=0\n",
    "    if(spix_val2[k][0]==255 and spix_val2[k][1]==0 and spix_val2[k][2]==0): color2[k]=1\n",
    "    if(spix_val2[k][0]==0 and spix_val2[k][1]==255 and spix_val2[k][2]==0): color2[k]=2\n",
    "    if(spix_val2[k][0]==0 and spix_val2[k][1]==0 and spix_val2[k][2]==255): color2[k]=3\n"
   ]
  },
  {
   "cell_type": "code",
   "execution_count": 61,
   "metadata": {},
   "outputs": [],
   "source": [
    "color3=[]\n",
    "for i in range(0, 1024*1024): color3.append(4)\n",
    "    \n",
    "for k in range(0, 1024*1024):\n",
    "    if(spix_val3[k][0]==0 and spix_val3[k][1]==0 and spix_val3[k][2]==0): color3[k]=0\n",
    "    if(spix_val3[k][0]==255 and spix_val3[k][1]==0 and spix_val3[k][2]==0): color3[k]=1\n",
    "    if(spix_val3[k][0]==0 and spix_val3[k][1]==255 and spix_val3[k][2]==0): color3[k]=2\n",
    "    if(spix_val3[k][0]==0 and spix_val3[k][1]==0 and spix_val3[k][2]==255): color3[k]=3\n"
   ]
  },
  {
   "cell_type": "code",
   "execution_count": 62,
   "metadata": {},
   "outputs": [],
   "source": [
    "color4=[]\n",
    "for i in range(0, 1024*1024): color4.append(4)\n",
    "    \n",
    "for k in range(0, 1024*1024):\n",
    "    if(spix_val4[k][0]==0 and spix_val4[k][1]==0 and spix_val4[k][2]==0): color4[k]=0\n",
    "    if(spix_val4[k][0]==255 and spix_val4[k][1]==0 and spix_val4[k][2]==0): color4[k]=1\n",
    "    if(spix_val4[k][0]==0 and spix_val4[k][1]==255 and spix_val4[k][2]==0): color4[k]=2\n",
    "    if(spix_val4[k][0]==0 and spix_val4[k][1]==0 and spix_val4[k][2]==255): color4[k]=3\n"
   ]
  },
  {
   "cell_type": "code",
   "execution_count": 63,
   "metadata": {},
   "outputs": [],
   "source": [
    "color5=[]\n",
    "for i in range(0, 1024*1024): color5.append(4)\n",
    "    \n",
    "for k in range(0, 1024*1024):\n",
    "    if(spix_val5[k][0]==0 and spix_val5[k][1]==0 and spix_val5[k][2]==0): color5[k]=0\n",
    "    if(spix_val5[k][0]==255 and spix_val5[k][1]==0 and spix_val5[k][2]==0): color5[k]=1\n",
    "    if(spix_val5[k][0]==0 and spix_val5[k][1]==255 and spix_val5[k][2]==0): color5[k]=2\n",
    "    if(spix_val5[k][0]==0 and spix_val5[k][1]==0 and spix_val5[k][2]==255): color5[k]=3\n"
   ]
  },
  {
   "cell_type": "code",
   "execution_count": 64,
   "metadata": {},
   "outputs": [],
   "source": [
    "color6=[]\n",
    "for i in range(0, 1024*1024): color6.append(4)\n",
    "    \n",
    "for k in range(0, 1024*1024):\n",
    "    if(spix_val6[k][0]==0 and spix_val6[k][1]==0 and spix_val6[k][2]==0): color6[k]=0\n",
    "    if(spix_val6[k][0]==255 and spix_val6[k][1]==0 and spix_val6[k][2]==0): color6[k]=1\n",
    "    if(spix_val6[k][0]==0 and spix_val6[k][1]==255 and spix_val6[k][2]==0): color6[k]=2\n",
    "    if(spix_val6[k][0]==0 and spix_val6[k][1]==0 and spix_val6[k][2]==255): color6[k]=3\n"
   ]
  },
  {
   "cell_type": "code",
   "execution_count": 65,
   "metadata": {},
   "outputs": [],
   "source": [
    "color7=[]\n",
    "for i in range(0, 1024*1024): color7.append(4)\n",
    "    \n",
    "for k in range(0, 1024*1024):\n",
    "    if(spix_val7[k][0]==0 and spix_val7[k][1]==0 and spix_val7[k][2]==0): color7[k]=0\n",
    "    if(spix_val7[k][0]==255 and spix_val7[k][1]==0 and spix_val7[k][2]==0): color7[k]=1\n",
    "    if(spix_val7[k][0]==0 and spix_val7[k][1]==255 and spix_val7[k][2]==0): color7[k]=2\n",
    "    if(spix_val7[k][0]==0 and spix_val7[k][1]==0 and spix_val7[k][2]==255): color7[k]=3\n"
   ]
  },
  {
   "cell_type": "code",
   "execution_count": 66,
   "metadata": {},
   "outputs": [],
   "source": [
    "color8=[]\n",
    "for i in range(0, 1024*1024): color8.append(4)\n",
    "    \n",
    "for k in range(0, 1024*1024):\n",
    "    if(spix_val8[k][0]==0 and spix_val8[k][1]==0 and spix_val8[k][2]==0): color8[k]=0\n",
    "    if(spix_val8[k][0]==255 and spix_val8[k][1]==0 and spix_val8[k][2]==0): color8[k]=1\n",
    "    if(spix_val8[k][0]==0 and spix_val8[k][1]==255 and spix_val8[k][2]==0): color8[k]=2\n",
    "    if(spix_val8[k][0]==0 and spix_val8[k][1]==0 and spix_val8[k][2]==255): color8[k]=3\n"
   ]
  },
  {
   "cell_type": "code",
   "execution_count": 67,
   "metadata": {},
   "outputs": [],
   "source": [
    "color9=[]\n",
    "for i in range(0, 1024*1024): color9.append(4)\n",
    "    \n",
    "for k in range(0, 1024*1024):\n",
    "    if(spix_val9[k][0]==0 and spix_val9[k][1]==0 and spix_val9[k][2]==0): color9[k]=0\n",
    "    if(spix_val9[k][0]==255 and spix_val9[k][1]==0 and spix_val9[k][2]==0): color9[k]=1\n",
    "    if(spix_val9[k][0]==0 and spix_val9[k][1]==255 and spix_val9[k][2]==0): color9[k]=2\n",
    "    if(spix_val9[k][0]==0 and spix_val9[k][1]==0 and spix_val9[k][2]==255): color9[k]=3\n"
   ]
  },
  {
   "cell_type": "code",
   "execution_count": 68,
   "metadata": {},
   "outputs": [],
   "source": [
    "color10=[]\n",
    "for i in range(0, 1024*1024): color10.append(4)\n",
    "    \n",
    "for k in range(0, 1024*1024):\n",
    "    if(spix_val10[k][0]==0 and spix_val10[k][1]==0 and spix_val10[k][2]==0): color10[k]=0\n",
    "    if(spix_val10[k][0]==255 and spix_val10[k][1]==0 and spix_val10[k][2]==0): color10[k]=1\n",
    "    if(spix_val10[k][0]==0 and spix_val10[k][1]==255 and spix_val10[k][2]==0): color10[k]=2\n",
    "    if(spix_val10[k][0]==0 and spix_val10[k][1]==0 and spix_val10[k][2]==255): color10[k]=3\n"
   ]
  },
  {
   "cell_type": "code",
   "execution_count": 69,
   "metadata": {},
   "outputs": [],
   "source": [
    "color11=[]\n",
    "for i in range(0, 1024*1024): color11.append(4)\n",
    "    \n",
    "for k in range(0, 1024*1024):\n",
    "    if(spix_val11[k][0]==0 and spix_val11[k][1]==0 and spix_val11[k][2]==0): color11[k]=0\n",
    "    if(spix_val11[k][0]==255 and spix_val11[k][1]==0 and spix_val11[k][2]==0): color11[k]=1\n",
    "    if(spix_val11[k][0]==0 and spix_val11[k][1]==255 and spix_val11[k][2]==0): color11[k]=2\n",
    "    if(spix_val11[k][0]==0 and spix_val11[k][1]==0 and spix_val11[k][2]==255): color11[k]=3\n"
   ]
  },
  {
   "cell_type": "code",
   "execution_count": 70,
   "metadata": {},
   "outputs": [],
   "source": [
    "color12=[]\n",
    "for i in range(0, 1024*1024): color12.append(4)\n",
    "    \n",
    "for k in range(0, 1024*1024):\n",
    "    if(spix_val12[k][0]==0 and spix_val12[k][1]==0 and spix_val12[k][2]==0): color12[k]=0\n",
    "    if(spix_val12[k][0]==255 and spix_val12[k][1]==0 and spix_val12[k][2]==0): color12[k]=1\n",
    "    if(spix_val12[k][0]==0 and spix_val12[k][1]==255 and spix_val12[k][2]==0): color12[k]=2\n",
    "    if(spix_val12[k][0]==0 and spix_val12[k][1]==0 and spix_val12[k][2]==255): color12[k]=3\n"
   ]
  },
  {
   "cell_type": "code",
   "execution_count": 71,
   "metadata": {},
   "outputs": [],
   "source": [
    "color13=[]\n",
    "for i in range(0, 1024*1024): color13.append(4)\n",
    "    \n",
    "for k in range(0, 1024*1024):\n",
    "    if(spix_val13[k][0]==0 and spix_val13[k][1]==0 and spix_val13[k][2]==0): color13[k]=0\n",
    "    if(spix_val13[k][0]==255 and spix_val13[k][1]==0 and spix_val13[k][2]==0): color13[k]=1\n",
    "    if(spix_val13[k][0]==0 and spix_val13[k][1]==255 and spix_val13[k][2]==0): color13[k]=2\n",
    "    if(spix_val13[k][0]==0 and spix_val13[k][1]==0 and spix_val13[k][2]==255): color13[k]=3\n"
   ]
  },
  {
   "cell_type": "code",
   "execution_count": 72,
   "metadata": {},
   "outputs": [],
   "source": [
    "color14=[]\n",
    "for i in range(0, 1024*1024): color14.append(4)\n",
    "    \n",
    "for k in range(0, 1024*1024):\n",
    "    if(spix_val14[k][0]==0 and spix_val14[k][1]==0 and spix_val14[k][2]==0): color14[k]=0\n",
    "    if(spix_val14[k][0]==255 and spix_val14[k][1]==0 and spix_val14[k][2]==0): color14[k]=1\n",
    "    if(spix_val14[k][0]==0 and spix_val14[k][1]==255 and spix_val14[k][2]==0): color14[k]=2\n",
    "    if(spix_val14[k][0]==0 and spix_val14[k][1]==0 and spix_val14[k][2]==255): color14[k]=3\n"
   ]
  },
  {
   "cell_type": "code",
   "execution_count": 73,
   "metadata": {},
   "outputs": [],
   "source": [
    "training_dataX=pix_val0+pix_val1+pix_val2+pix_val3+pix_val4\n",
    "training_dataY=color0+color1+color2+color3+color4+color5+color6+color7+color8+color9+color10+color11+color12+color13+color14"
   ]
  },
  {
   "cell_type": "code",
   "execution_count": 74,
   "metadata": {},
   "outputs": [
    {
     "data": {
      "text/plain": [
       "KNeighborsClassifier(algorithm='auto', leaf_size=30, metric='minkowski',\n",
       "                     metric_params=None, n_jobs=None, n_neighbors=301, p=2,\n",
       "                     weights='uniform')"
      ]
     },
     "execution_count": 74,
     "metadata": {},
     "output_type": "execute_result"
    }
   ],
   "source": [
    "neigh = KNeighborsClassifier(n_neighbors=301)\n",
    "neigh.fit(training_dataX, training_dataY)"
   ]
  },
  {
   "cell_type": "code",
   "execution_count": 75,
   "metadata": {},
   "outputs": [
    {
     "data": {
      "text/plain": [
       "['final model 2(n=301), 15.pkl']"
      ]
     },
     "execution_count": 75,
     "metadata": {},
     "output_type": "execute_result"
    }
   ],
   "source": [
    "joblib.dump(neigh, 'final model 2(n=301), 15.pkl')"
   ]
  }
 ],
 "metadata": {
  "kernelspec": {
   "display_name": "Python 3",
   "language": "python",
   "name": "python3"
  },
  "language_info": {
   "codemirror_mode": {
    "name": "ipython",
    "version": 3
   },
   "file_extension": ".py",
   "mimetype": "text/x-python",
   "name": "python",
   "nbconvert_exporter": "python",
   "pygments_lexer": "ipython3",
   "version": "3.7.4"
  }
 },
 "nbformat": 4,
 "nbformat_minor": 2
}
