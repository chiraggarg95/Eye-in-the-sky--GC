{
 "cells": [
  {
   "cell_type": "code",
   "execution_count": 1,
   "metadata": {},
   "outputs": [
    {
     "name": "stderr",
     "output_type": "stream",
     "text": [
      "D:\\anaconda\\lib\\site-packages\\sklearn\\externals\\joblib\\__init__.py:15: DeprecationWarning: sklearn.externals.joblib is deprecated in 0.21 and will be removed in 0.23. Please import this functionality directly from joblib, which can be installed with: pip install joblib. If this warning is raised when loading pickled models, you may need to re-serialize those models with scikit-learn 0.21+.\n",
      "  warnings.warn(msg, category=DeprecationWarning)\n"
     ]
    }
   ],
   "source": [
    "import pandas as pd\n",
    "import numpy as np\n",
    "import matplotlib.pyplot as plt\n",
    "import seaborn as sns\n",
    "from PIL import Image\n",
    "import xlwt\n",
    "from xlwt import Workbook as wb\n",
    "from sklearn.neighbors import KNeighborsClassifier\n",
    "from sklearn.externals import joblib"
   ]
  },
  {
   "cell_type": "code",
   "execution_count": 2,
   "metadata": {},
   "outputs": [],
   "source": [
    "im0 = Image.open('0(a).png', 'r')\n",
    "pix_val0 = list(im0.getdata())"
   ]
  },
  {
   "cell_type": "code",
   "execution_count": 3,
   "metadata": {},
   "outputs": [],
   "source": [
    "im1 = Image.open('1(b).png', 'r')\n",
    "pix_val1 = list(im1.getdata())"
   ]
  },
  {
   "cell_type": "code",
   "execution_count": 4,
   "metadata": {},
   "outputs": [],
   "source": [
    "im2 = Image.open('2(c).png', 'r')\n",
    "pix_val2 = list(im2.getdata())"
   ]
  },
  {
   "cell_type": "code",
   "execution_count": 5,
   "metadata": {},
   "outputs": [],
   "source": [
    "im3 = Image.open('3(d).png', 'r')\n",
    "pix_val3 = list(im3.getdata())"
   ]
  },
  {
   "cell_type": "code",
   "execution_count": 6,
   "metadata": {},
   "outputs": [],
   "source": [
    "im4 = Image.open('4(e).png', 'r')\n",
    "pix_val4 = list(im4.getdata())"
   ]
  },
  {
   "cell_type": "code",
   "execution_count": 7,
   "metadata": {},
   "outputs": [],
   "source": [
    "prediction_dataX=pix_val0+pix_val1+pix_val2+pix_val3+pix_val4"
   ]
  },
  {
   "cell_type": "code",
   "execution_count": 8,
   "metadata": {},
   "outputs": [],
   "source": [
    "model=joblib.load('final model 2(n=301), 15.pkl')"
   ]
  },
  {
   "cell_type": "code",
   "execution_count": 9,
   "metadata": {},
   "outputs": [],
   "source": [
    "predicted_dataY0=[]\n",
    "for i in range(0, 1024*1024): predicted_dataY0.append(-1)"
   ]
  },
  {
   "cell_type": "code",
   "execution_count": 10,
   "metadata": {},
   "outputs": [],
   "source": [
    "predicted_dataY1=[]\n",
    "for i in range(0, 1024*1024): predicted_dataY1.append(-1)"
   ]
  },
  {
   "cell_type": "code",
   "execution_count": 11,
   "metadata": {},
   "outputs": [],
   "source": [
    "predicted_dataY2=[]\n",
    "for i in range(0, 1024*1024): predicted_dataY2.append(-1)"
   ]
  },
  {
   "cell_type": "code",
   "execution_count": 12,
   "metadata": {},
   "outputs": [],
   "source": [
    "predicted_dataY3=[]\n",
    "for i in range(0, 1024*1024): predicted_dataY3.append(-1)"
   ]
  },
  {
   "cell_type": "code",
   "execution_count": 13,
   "metadata": {},
   "outputs": [],
   "source": [
    "predicted_dataY4=[]\n",
    "for i in range(0, 1024*1024): predicted_dataY4.append(-1)"
   ]
  },
  {
   "cell_type": "code",
   "execution_count": 14,
   "metadata": {},
   "outputs": [],
   "source": [
    "for i in range(0, 1024*1024):\n",
    "    predicted_dataY0[i]=model.predict([[pix_val0[i][0], pix_val0[i][1], pix_val0[i][2]]])"
   ]
  },
  {
   "cell_type": "code",
   "execution_count": 15,
   "metadata": {},
   "outputs": [],
   "source": [
    "for i in range(0, 1024*1024):\n",
    "    predicted_dataY1[i]=model.predict([[pix_val1[i][0], pix_val1[i][1], pix_val1[i][2]]])"
   ]
  },
  {
   "cell_type": "code",
   "execution_count": 16,
   "metadata": {},
   "outputs": [],
   "source": [
    "for i in range(0, 1024*1024):\n",
    "    predicted_dataY2[i]=model.predict([[pix_val2[i][0], pix_val2[i][1], pix_val2[i][2]]])"
   ]
  },
  {
   "cell_type": "code",
   "execution_count": 17,
   "metadata": {},
   "outputs": [],
   "source": [
    "for i in range(0, 1024*1024):\n",
    "    predicted_dataY3[i]=model.predict([[pix_val3[i][0], pix_val3[i][1], pix_val3[i][2]]])"
   ]
  },
  {
   "cell_type": "code",
   "execution_count": 18,
   "metadata": {},
   "outputs": [],
   "source": [
    "for i in range(0, 1024*1024):\n",
    "    predicted_dataY4[i]=model.predict([[pix_val4[i][0], pix_val4[i][1], pix_val4[i][2]]])"
   ]
  },
  {
   "cell_type": "code",
   "execution_count": 25,
   "metadata": {},
   "outputs": [],
   "source": [
    "label0=[]\n",
    "for i in range(0, 1024*1024): label0.append([0,0,0])"
   ]
  },
  {
   "cell_type": "code",
   "execution_count": 26,
   "metadata": {},
   "outputs": [],
   "source": [
    "label1=[]\n",
    "for i in range(0, 1024*1024): label1.append([0,0,0])"
   ]
  },
  {
   "cell_type": "code",
   "execution_count": 27,
   "metadata": {},
   "outputs": [],
   "source": [
    "label2=[]\n",
    "for i in range(0, 1024*1024): label2.append([0,0,0])"
   ]
  },
  {
   "cell_type": "code",
   "execution_count": 28,
   "metadata": {},
   "outputs": [],
   "source": [
    "label3=[]\n",
    "for i in range(0, 1024*1024): label3.append([0,0,0])"
   ]
  },
  {
   "cell_type": "code",
   "execution_count": 29,
   "metadata": {},
   "outputs": [],
   "source": [
    "label4=[]\n",
    "for i in range(0, 1024*1024): label4.append([0,0,0])"
   ]
  },
  {
   "cell_type": "code",
   "execution_count": 30,
   "metadata": {},
   "outputs": [],
   "source": [
    "for i in range(0, 1024*1024):\n",
    "    if(predicted_dataY0[i]==0):\n",
    "        label0[i][0]=0\n",
    "        label0[i][1]=0\n",
    "        label0[i][2]=0\n",
    "    elif(predicted_dataY0[i]==1):\n",
    "        label0[i][0]=255\n",
    "        label0[i][1]=0\n",
    "        label0[i][2]=0\n",
    "    elif(predicted_dataY0[i]==2):\n",
    "        label0[i][0]=0\n",
    "        label0[i][1]=255\n",
    "        label0[i][2]=0\n",
    "    elif(predicted_dataY0[i]==3):\n",
    "        label0[i][0]=0\n",
    "        label0[i][1]=0\n",
    "        label0[i][2]=255\n",
    "    else:\n",
    "        label0[i][0]=255\n",
    "        label0[i][1]=255\n",
    "        label0[i][2]=0"
   ]
  },
  {
   "cell_type": "code",
   "execution_count": 31,
   "metadata": {},
   "outputs": [],
   "source": [
    "for i in range(0, 1024*1024):\n",
    "    if(predicted_dataY1[i]==0):\n",
    "        label1[i][0]=0\n",
    "        label1[i][1]=0\n",
    "        label1[i][2]=0\n",
    "    elif(predicted_dataY1[i]==1):\n",
    "        label1[i][0]=255\n",
    "        label1[i][1]=0\n",
    "        label1[i][2]=0\n",
    "    elif(predicted_dataY1[i]==2):\n",
    "        label1[i][0]=0\n",
    "        label1[i][1]=255\n",
    "        label1[i][2]=0\n",
    "    elif(predicted_dataY1[i]==3):\n",
    "        label1[i][0]=0\n",
    "        label1[i][1]=0\n",
    "        label1[i][2]=255\n",
    "    else:\n",
    "        label1[i][0]=255\n",
    "        label1[i][1]=255\n",
    "        label1[i][2]=0"
   ]
  },
  {
   "cell_type": "code",
   "execution_count": 32,
   "metadata": {},
   "outputs": [],
   "source": [
    "for i in range(0, 1024*1024):\n",
    "    if(predicted_dataY2[i]==0):\n",
    "        label2[i][0]=0\n",
    "        label2[i][1]=0\n",
    "        label2[i][2]=0\n",
    "    elif(predicted_dataY2[i]==1):\n",
    "        label2[i][0]=255\n",
    "        label2[i][1]=0\n",
    "        label2[i][2]=0\n",
    "    elif(predicted_dataY2[i]==2):\n",
    "        label2[i][0]=0\n",
    "        label2[i][1]=255\n",
    "        label2[i][2]=0\n",
    "    elif(predicted_dataY2[i]==3):\n",
    "        label2[i][0]=0\n",
    "        label2[i][1]=0\n",
    "        label2[i][2]=255\n",
    "    else:\n",
    "        label2[i][0]=255\n",
    "        label2[i][1]=255\n",
    "        label2[i][2]=0"
   ]
  },
  {
   "cell_type": "code",
   "execution_count": 33,
   "metadata": {},
   "outputs": [],
   "source": [
    "for i in range(0, 1024*1024):\n",
    "    if(predicted_dataY3[i]==0):\n",
    "        label3[i][0]=0\n",
    "        label3[i][1]=0\n",
    "        label3[i][2]=0\n",
    "    elif(predicted_dataY3[i]==1):\n",
    "        label3[i][0]=255\n",
    "        label3[i][1]=0\n",
    "        label3[i][2]=0\n",
    "    elif(predicted_dataY3[i]==2):\n",
    "        label3[i][0]=0\n",
    "        label3[i][1]=255\n",
    "        label3[i][2]=0\n",
    "    elif(predicted_dataY3[i]==3):\n",
    "        label3[i][0]=0\n",
    "        label3[i][1]=0\n",
    "        label3[i][2]=255\n",
    "    else:\n",
    "        label3[i][0]=255\n",
    "        label3[i][1]=255\n",
    "        label3[i][2]=0"
   ]
  },
  {
   "cell_type": "code",
   "execution_count": 34,
   "metadata": {},
   "outputs": [],
   "source": [
    "for i in range(0, 1024*1024):\n",
    "    if(predicted_dataY4[i]==0):\n",
    "        label4[i][0]=0\n",
    "        label4[i][1]=0\n",
    "        label4[i][2]=0\n",
    "    elif(predicted_dataY4[i]==1):\n",
    "        label4[i][0]=255\n",
    "        label4[i][1]=0\n",
    "        label4[i][2]=0\n",
    "    elif(predicted_dataY4[i]==2):\n",
    "        label4[i][0]=0\n",
    "        label4[i][1]=255\n",
    "        label4[i][2]=0\n",
    "    elif(predicted_dataY4[i]==3):\n",
    "        label4[i][0]=0\n",
    "        label4[i][1]=0\n",
    "        label4[i][2]=255\n",
    "    else:\n",
    "        label4[i][0]=255\n",
    "        label4[i][1]=255\n",
    "        label4[i][2]=0"
   ]
  },
  {
   "cell_type": "code",
   "execution_count": null,
   "metadata": {},
   "outputs": [],
   "source": []
  },
  {
   "cell_type": "code",
   "execution_count": null,
   "metadata": {},
   "outputs": [],
   "source": []
  }
 ],
 "metadata": {
  "kernelspec": {
   "display_name": "Python 3",
   "language": "python",
   "name": "python3"
  },
  "language_info": {
   "codemirror_mode": {
    "name": "ipython",
    "version": 3
   },
   "file_extension": ".py",
   "mimetype": "text/x-python",
   "name": "python",
   "nbconvert_exporter": "python",
   "pygments_lexer": "ipython3",
   "version": "3.7.4"
  }
 },
 "nbformat": 4,
 "nbformat_minor": 2
}
